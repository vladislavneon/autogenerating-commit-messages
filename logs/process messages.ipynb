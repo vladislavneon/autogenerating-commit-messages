{
 "cells": [
  {
   "cell_type": "code",
   "execution_count": 2,
   "metadata": {},
   "outputs": [],
   "source": [
    "%config IPCompleter.greedy=True\n",
    "import re\n",
    "from matplotlib import pyplot as plt\n",
    "%matplotlib inline\n",
    "from sklearn.feature_extraction.text import TfidfVectorizer\n",
    "from sklearn.feature_extraction.text import CountVectorizer"
   ]
  },
  {
   "cell_type": "code",
   "execution_count": 3,
   "metadata": {},
   "outputs": [],
   "source": [
    "def parse_tag(msg):\n",
    "    m = re.match(r'(\\[.+?\\])(.*)', msg)\n",
    "    if m:\n",
    "        return m.group(1).lower(), m.group(2)\n",
    "    # m = re.match(r'([A-Z]+?)-\\d+?\\D(.*)', msg)\n",
    "    # if m:\n",
    "    #     return m.group(1).lower(), m.group(2)\n",
    "    m = re.match(r'([A-Za-z]+?):(.*)', msg)\n",
    "    if m and len(m.group(1)) < 10:\n",
    "        return '[{}]'.format(m.group(1).lower()), m.group(2)\n",
    "    return '', msg\n",
    "\n",
    "def handle_tags(line):\n",
    "    tag, rest = parse_tag(line)\n",
    "    issue_tags = re.findall(r'[^\\n ]??([A-Z]+)-(?:CR-)?\\d+[^ ]?', rest)\n",
    "    issue_tags = set(map(str.lower, issue_tags))\n",
    "    issue_tags = ' '.join(map((lambda s: '{{{}}}'.format(s)), issue_tags))\n",
    "    rest = re.sub(r'[^\\n ]??([A-Z]+)-(?:CR-)?\\d+[^ ]?', r'', rest)\n",
    "    return tag, issue_tags, rest\n",
    "\n",
    "def remove_numbers(line):\n",
    "    return re.sub(r'( |^)(\\d+)( |$)', r'\\1\\3', line)"
   ]
  },
  {
   "cell_type": "code",
   "execution_count": 4,
   "metadata": {},
   "outputs": [],
   "source": [
    "diffs = []\n",
    "with open('generated_data/test.diff', 'r', encoding='utf8') as inf:\n",
    "    for line in inf:\n",
    "        diffs.append(line.strip())\n",
    "\n",
    "test_diffs_count = len(diffs)\n",
    "\n",
    "with open('generated_data/train.diff', 'r', encoding='utf8') as inf:\n",
    "    for line in inf:\n",
    "        diffs.append(line.strip())"
   ]
  },
  {
   "cell_type": "code",
   "execution_count": 94,
   "metadata": {},
   "outputs": [
    {
     "name": "stdout",
     "output_type": "stream",
     "text": [
      "241957\n"
     ]
    },
    {
     "data": {
      "text/plain": [
       "numpy.ndarray"
      ]
     },
     "execution_count": 94,
     "metadata": {},
     "output_type": "execute_result"
    }
   ],
   "source": [
    "count_vectorizer = CountVectorizer(token_pattern=r'\\S+', stop_words=['<nl>'], binary=True)\n",
    "bow_matrix = count_vectorizer.fit_transform(diffs)\n",
    "print(len(count_vectorizer.vocabulary_))\n",
    "counts = bow_matrix.sum(axis=0).getA1()"
   ]
  },
  {
   "cell_type": "code",
   "execution_count": 102,
   "metadata": {},
   "outputs": [
    {
     "data": {
      "text/plain": [
       "(3717,)"
      ]
     },
     "execution_count": 102,
     "metadata": {},
     "output_type": "execute_result"
    }
   ],
   "source": [
    "counts[counts > 100].shape"
   ]
  },
  {
   "cell_type": "code",
   "execution_count": 77,
   "metadata": {},
   "outputs": [
    {
     "data": {
      "image/png": "[encoded data removed]",
      "text/plain": [
       "<Figure size 1440x576 with 1 Axes>"
      ]
     },
     "metadata": {
      "needs_background": "light"
     },
     "output_type": "display_data"
    }
   ],
   "source": [
    "bins = [i for i in range(1, 100000, 100)]\n",
    "#bins.extend([i for i in range(100, 1000, 100)])\n",
    "#bins.extend([i for i in range(1000, 10000, 100)])\n",
    "#bins.extend([i for i in range(10000, 100000, 10000)])\n",
    "plt.figure(figsize=(20, 8))\n",
    "plt.ylim([0, 1000])\n",
    "plt.xscale('log')\n",
    "plt.xticks(ticks=[i for i in range(0, 80000, 100)])\n",
    "plt.hist(counts, bins=bins)\n",
    "plt.show()"
   ]
  },
  {
   "cell_type": "code",
   "execution_count": 103,
   "metadata": {},
   "outputs": [
    {
     "data": {
      "text/plain": [
       "238240"
      ]
     },
     "execution_count": 103,
     "metadata": {},
     "output_type": "execute_result"
    }
   ],
   "source": [
    "tfidf_vectorizer = TfidfVectorizer(token_pattern=r'\\S+', stop_words=['<nl>'], max_df=100)\n",
    "tfidf_matrix = tfidf_vectorizer.fit_transform(diffs)\n",
    "index = tfidf_vectorizer.get_feature_names()\n",
    "# tfidf = []\n",
    "# for row in tfidf_matrix:\n",
    "#     cur_tfidf = {index[word_id] : score for word_id, score in zip(row.indices, row.data)}\n",
    "#     tfidf.append(cur_tfidf)\n",
    "len(index)"
   ]
  },
  {
   "cell_type": "code",
   "execution_count": 24,
   "metadata": {},
   "outputs": [],
   "source": [
    "def tokenize_msg(line):\n",
    "    tag, issue_tags, rest = handle_tags(line)\n",
    "    res = []\n",
    "    if tag:\n",
    "        res.append(tag)\n",
    "    if issue_tags:\n",
    "        res.append(issue_tags)\n",
    "    res.append(tokenize(rest))\n",
    "    return ' '.join(res)\n",
    "\n",
    "def tokenize(line):\n",
    "    line = re.sub(r'(\\w)(?=[^a-zA-Z0-9_ ])', r'\\1 ', line)\n",
    "    line = re.sub(r'([^a-zA-Z0-9_ ])(?=\\w)', r'\\1 ', line)\n",
    "    line = re.sub(r'([^a-zA-Z0-9_ ])(?=[^a-zA-Z0-9_ ])', r'\\1 ', line)\n",
    "    line = remove_numbers(line)\n",
    "    line = ' '.join(line.split())\n",
    "    return line"
   ]
  },
  {
   "cell_type": "code",
   "execution_count": 26,
   "metadata": {},
   "outputs": [],
   "source": [
    "dataset='generated_data'\n",
    "\n",
    "with open('{dataset:}/test.msg'.format(dataset=dataset), 'r', encoding='utf8') as inf:\n",
    "    lines = list(inf)\n",
    "\n",
    "lines = list(map(tokenize_msg, lines))\n",
    "\n",
    "with open('{dataset:}/test2.msg'.format(dataset=dataset), 'w', encoding='utf8') as ouf:\n",
    "    for line in lines:\n",
    "        ouf.write(line + '\\n')\n",
    "\n",
    "with open('{dataset:}/train.msg'.format(dataset=dataset), 'r', encoding='utf8') as inf:\n",
    "    lines = list(inf)\n",
    "\n",
    "lines = list(map(tokenize_msg, lines))\n",
    "\n",
    "with open('{dataset:}/train2.msg'.format(dataset=dataset), 'w', encoding='utf8') as ouf:\n",
    "    for line in lines:\n",
    "        ouf.write(line + '\\n')"
   ]
  },
  {
   "cell_type": "code",
   "execution_count": 107,
   "metadata": {},
   "outputs": [
    {
     "name": "stdout",
     "output_type": "stream",
     "text": [
      "['and', 'document', 'first', 'is', 'one', 'second', 'the', 'third', 'this']\n",
      "(4, 9)\n",
      "  (0, 8)\t0.3197864157275553\n",
      "  (0, 3)\t0.6395728314551106\n",
      "  (0, 6)\t0.3197864157275553\n",
      "  (0, 2)\t0.4831415110134742\n",
      "  (0, 1)\t0.3911446921950442\n",
      "  (1, 8)\t0.281088674033753\n",
      "  (1, 3)\t0.281088674033753\n",
      "  (1, 6)\t0.281088674033753\n",
      "  (1, 1)\t0.6876235979836938\n",
      "  (1, 5)\t0.5386476208856763\n",
      "  (2, 8)\t0.267103787642168\n",
      "  (2, 3)\t0.267103787642168\n",
      "  (2, 6)\t0.267103787642168\n",
      "  (2, 0)\t0.511848512707169\n",
      "  (2, 7)\t0.511848512707169\n",
      "  (2, 4)\t0.511848512707169\n",
      "  (3, 8)\t0.38408524091481483\n",
      "  (3, 3)\t0.38408524091481483\n",
      "  (3, 6)\t0.38408524091481483\n",
      "  (3, 2)\t0.5802858236844359\n",
      "  (3, 1)\t0.46979138557992045\n",
      "[{'this': 0.3197864157275553, 'is': 0.6395728314551106, 'the': 0.3197864157275553, 'first': 0.4831415110134742, 'document': 0.3911446921950442}, {'this': 0.281088674033753, 'is': 0.281088674033753, 'the': 0.281088674033753, 'document': 0.6876235979836938, 'second': 0.5386476208856763}, {'this': 0.267103787642168, 'is': 0.267103787642168, 'the': 0.267103787642168, 'and': 0.511848512707169, 'third': 0.511848512707169, 'one': 0.511848512707169}, {'this': 0.38408524091481483, 'is': 0.38408524091481483, 'the': 0.38408524091481483, 'first': 0.5802858236844359, 'document': 0.46979138557992045}]\n"
     ]
    }
   ],
   "source": [
    "corpus = [\n",
    "    'This is the first is document.',\n",
    "    'This document is the second document.',\n",
    "    'And this is the third one.',\n",
    "    'Is this the first document?',\n",
    "]\n",
    "vectorizer = TfidfVectorizer()\n",
    "tfidf_matrix = vectorizer.fit_transform(corpus)\n",
    "index = vectorizer.get_feature_names()\n",
    "tfidf = []\n",
    "for row in tfidf_matrix:\n",
    "    cur_tfidf = {index[word_id] : score for word_id, score in zip(row.indices, row.data)}\n",
    "    tfidf.append(cur_tfidf)\n",
    "print(index)\n",
    "print(tfidf_matrix.shape)\n",
    "print(tfidf_matrix)\n",
    "print(tfidf)"
   ]
  },
  {
   "cell_type": "code",
   "execution_count": null,
   "metadata": {},
   "outputs": [],
   "source": []
  }
 ],
 "metadata": {
  "kernelspec": {
   "display_name": "Python 3",
   "language": "python",
   "name": "python3"
  },
  "language_info": {
   "codemirror_mode": {
    "name": "ipython",
    "version": 3
   },
   "file_extension": ".py",
   "mimetype": "text/x-python",
   "name": "python",
   "nbconvert_exporter": "python",
   "pygments_lexer": "ipython3",
   "version": "3.7.1"
  }
 },
 "nbformat": 4,
 "nbformat_minor": 2
}
