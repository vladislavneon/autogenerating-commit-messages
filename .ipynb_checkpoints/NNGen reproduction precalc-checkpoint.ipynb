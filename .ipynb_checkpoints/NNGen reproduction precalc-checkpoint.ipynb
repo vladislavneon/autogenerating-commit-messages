{
 "cells": [
  {
   "cell_type": "code",
   "execution_count": 20,
   "metadata": {},
   "outputs": [],
   "source": [
    "%config IPCompleter.greedy=True\n",
    "from sklearn.feature_extraction.text import CountVectorizer\n",
    "import scipy.sparse\n",
    "import json"
   ]
  },
  {
   "cell_type": "code",
   "execution_count": 21,
   "metadata": {},
   "outputs": [],
   "source": [
    "diffs = []\n",
    "\n",
    "with open('data/train.diff', 'r') as inf:\n",
    "    for line in inf:\n",
    "        diffs.append(line.strip())"
   ]
  },
  {
   "cell_type": "code",
   "execution_count": 22,
   "metadata": {
    "collapsed": true
   },
   "outputs": [
    {
     "data": {
      "text/plain": [
       "['new file mode 100755 <nl> index 0000000 . . d125c52 <nl> Binary files / dev / null and b / art / intro . png differ <nl>',\n",
       " 'mmm a / telecomm / java / android / telecomm / Connection . java <nl> ppp b / telecomm / java / android / telecomm / Connection . java <nl> public abstract class Connection { <nl> * / <nl> public static String stateToString ( int state ) { <nl> switch ( state ) { <nl> + case State . INITIALIZING : <nl> + return \" INITIALIZING \" ; <nl> case State . NEW : <nl> return \" NEW \" ; <nl> case State . RINGING : <nl>',\n",
       " 'similarity index 100 % <nl> rename from examples / seneca / bug662 / binary . html <nl> rename to examples / seneca / bug662 / test1 . html <nl>',\n",
       " 'mmm a / modules / apps / collaboration / wiki / . gitrepo <nl> ppp b / modules / apps / collaboration / wiki / . gitrepo <nl> ; <nl> [ subrepo ] <nl> cmdver = liferay <nl> - commit = e17a5e5da4d8f1594040175129627f3e998a76cc <nl> + commit = ec7c0219d8d764010ba9493accae8be3c94785d7 <nl> mode = push <nl> - parent = f49454bc940a22bff107906ad639d2d6c5fff71e <nl> + parent = 3f2abcac9420152ba00be869ca3aa6cb47c07a24 <nl> remote = git @ github . com : liferay / com - liferay - wiki . git <nl> \\\\ No newline at end of file <nl>']"
      ]
     },
     "execution_count": 22,
     "metadata": {},
     "output_type": "execute_result"
    }
   ],
   "source": [
    "diffs"
   ]
  },
  {
   "cell_type": "code",
   "execution_count": 26,
   "metadata": {
    "collapsed": true
   },
   "outputs": [
    {
     "data": {
      "text/plain": [
       "{'new': 61,\n",
       " 'file': 45,\n",
       " 'mode': 59,\n",
       " '100755': 11,\n",
       " 'index': 52,\n",
       " '0000000': 9,\n",
       " '.': 7,\n",
       " 'd125c52': 37,\n",
       " 'binary': 28,\n",
       " 'files': 46,\n",
       " '/': 8,\n",
       " 'dev': 38,\n",
       " 'null': 64,\n",
       " 'and': 22,\n",
       " 'b': 27,\n",
       " 'art': 25,\n",
       " 'intro': 55,\n",
       " 'png': 67,\n",
       " 'differ': 39,\n",
       " 'mmm': 58,\n",
       " 'a': 20,\n",
       " 'telecomm': 83,\n",
       " 'java': 56,\n",
       " 'android': 23,\n",
       " 'connection': 36,\n",
       " 'ppp': 68,\n",
       " 'public': 69,\n",
       " 'abstract': 21,\n",
       " 'class': 31,\n",
       " '{': 87,\n",
       " '*': 4,\n",
       " 'static': 79,\n",
       " 'string': 80,\n",
       " 'statetostring': 78,\n",
       " '(': 2,\n",
       " 'int': 54,\n",
       " 'state': 77,\n",
       " ')': 3,\n",
       " 'switch': 82,\n",
       " '+': 5,\n",
       " 'case': 30,\n",
       " 'initializing': 53,\n",
       " ':': 13,\n",
       " 'return': 73,\n",
       " '\"': 0,\n",
       " ';': 14,\n",
       " 'ringing': 74,\n",
       " 'similarity': 76,\n",
       " '100': 10,\n",
       " '%': 1,\n",
       " 'rename': 72,\n",
       " 'from': 47,\n",
       " 'examples': 43,\n",
       " 'seneca': 75,\n",
       " 'bug662': 29,\n",
       " 'html': 51,\n",
       " 'to': 85,\n",
       " 'test1': 84,\n",
       " 'modules': 60,\n",
       " 'apps': 24,\n",
       " 'collaboration': 33,\n",
       " 'wiki': 86,\n",
       " 'gitrepo': 50,\n",
       " '[': 17,\n",
       " 'subrepo': 81,\n",
       " ']': 19,\n",
       " 'cmdver': 32,\n",
       " '=': 15,\n",
       " 'liferay': 57,\n",
       " '-': 6,\n",
       " 'commit': 35,\n",
       " 'e17a5e5da4d8f1594040175129627f3e998a76cc': 40,\n",
       " 'ec7c0219d8d764010ba9493accae8be3c94785d7': 41,\n",
       " 'push': 70,\n",
       " 'parent': 66,\n",
       " 'f49454bc940a22bff107906ad639d2d6c5fff71e': 44,\n",
       " '3f2abcac9420152ba00be869ca3aa6cb47c07a24': 12,\n",
       " 'remote': 71,\n",
       " 'git': 48,\n",
       " '@': 16,\n",
       " 'github': 49,\n",
       " 'com': 34,\n",
       " '\\\\': 18,\n",
       " 'no': 63,\n",
       " 'newline': 62,\n",
       " 'at': 26,\n",
       " 'end': 42,\n",
       " 'of': 65}"
      ]
     },
     "execution_count": 26,
     "metadata": {},
     "output_type": "execute_result"
    }
   ],
   "source": [
    "vectorizer = CountVectorizer(token_pattern=r'\\S+', stop_words=['<nl>'])\n",
    "bow_matrix = vectorizer.fit_transform(diffs)\n",
    "vocabulary = {}\n",
    "for k, v in vectorizer.vocabulary_.items():\n",
    "    vocabulary[k] = v.item()\n",
    "vocabulary"
   ]
  },
  {
   "cell_type": "code",
   "execution_count": 30,
   "metadata": {},
   "outputs": [],
   "source": [
    "scipy.sparse.save_npz('data/bow_matrix.npz', bow_matrix)\n",
    "with open('data/vocabulary.json', 'w') as ouf:\n",
    "    ouf.write(json.dumps(vocabulary, sort_keys=True, indent=4))"
   ]
  },
  {
   "cell_type": "code",
   "execution_count": 5,
   "metadata": {},
   "outputs": [],
   "source": []
  }
 ],
 "metadata": {
  "kernelspec": {
   "display_name": "Python 3",
   "language": "python",
   "name": "python3"
  },
  "language_info": {
   "codemirror_mode": {
    "name": "ipython",
    "version": 3
   },
   "file_extension": ".py",
   "mimetype": "text/x-python",
   "name": "python",
   "nbconvert_exporter": "python",
   "pygments_lexer": "ipython3",
   "version": "3.7.0"
  }
 },
 "nbformat": 4,
 "nbformat_minor": 2
}
