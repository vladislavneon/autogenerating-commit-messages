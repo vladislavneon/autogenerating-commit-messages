{
 "cells": [
  {
   "cell_type": "code",
   "execution_count": 49,
   "metadata": {},
   "outputs": [],
   "source": [
    "%config IPCompleter.greedy=True\n",
    "from sklearn.feature_extraction.text import CountVectorizer\n",
    "from nltk.translate.bleu_score import corpus_bleu\n",
    "from nltk.translate.bleu_score import sentence_bleu\n",
    "import json\n",
    "import re"
   ]
  },
  {
   "cell_type": "code",
   "execution_count": 62,
   "metadata": {},
   "outputs": [],
   "source": [
    "#load vocabulary\n",
    "with open('data/vocabulary.json', 'r') as inf:\n",
    "    vocabulary = json.load(inf) \n",
    "vectorizer = CountVectorizer(vocabulary=vocabulary, token_pattern=r'\\S+', stop_words=['<nl>'])\n",
    "\n",
    "analyzer = vectorizer.build_analyzer()"
   ]
  },
  {
   "cell_type": "code",
   "execution_count": 63,
   "metadata": {},
   "outputs": [],
   "source": [
    "#calculates bleu_score\n",
    "candidates = []\n",
    "with open('data/generated.msg', 'r') as inf:\n",
    "    for msg in inf:\n",
    "        cur_candidate = analyzer(msg)\n",
    "        candidates.append(cur_candidate)\n",
    "        \n",
    "references = []\n",
    "with open('data/test.msg', 'r') as inf:\n",
    "    for msg in inf:\n",
    "        cur_reference = analyzer(msg)\n",
    "        references.append([cur_reference])"
   ]
  },
  {
   "cell_type": "code",
   "execution_count": 64,
   "metadata": {},
   "outputs": [
    {
     "name": "stdout",
     "output_type": "stream",
     "text": [
      "12601\n",
      "12601\n"
     ]
    }
   ],
   "source": [
    "print(len(candidates))\n",
    "print(len(references))"
   ]
  },
  {
   "cell_type": "code",
   "execution_count": 65,
   "metadata": {},
   "outputs": [
    {
     "data": {
      "text/plain": [
       "0.0026756369053088556"
      ]
     },
     "execution_count": 65,
     "metadata": {},
     "output_type": "execute_result"
    }
   ],
   "source": [
    "\n",
    "        \n",
    "corpus_bleu_score = corpus_bleu(references, candidates)\n",
    "corpus_bleu_score"
   ]
  },
  {
   "cell_type": "code",
   "execution_count": 66,
   "metadata": {},
   "outputs": [
    {
     "name": "stdout",
     "output_type": "stream",
     "text": [
      "687 right tags of 1234, precision is 0.5567260940032415\n"
     ]
    }
   ],
   "source": [
    "#evaluates tags prediction\n",
    "generated_tags = []\n",
    "with open('data/generated.msg', 'r') as inf:\n",
    "    for line in inf:\n",
    "        tag = re.match(r'\\[(.*?)\\]', line)\n",
    "        tag = tag.group(1) if tag is not None else ''\n",
    "        generated_tags.append(tag)\n",
    "        \n",
    "test_tags = []\n",
    "with open('data/test.msg', 'r') as inf:\n",
    "    for line in inf:\n",
    "        tag = re.match(r'\\[(.*?)\\]', line)\n",
    "        tag = tag.group(1) if tag is not None else ''\n",
    "        test_tags.append(tag)\n",
    "        \n",
    "count_test_tags = 0\n",
    "right_test_tags = 0\n",
    "\n",
    "for i in range(len(test_tags)):\n",
    "    if test_tags[i] and generated_tags[i]:\n",
    "        count_test_tags += 1\n",
    "        if test_tags[i] == generated_tags[i]:\n",
    "            right_test_tags += 1\n",
    "        \n",
    "tag_precision = right_test_tags / count_test_tags\n",
    "print(f'{right_test_tags} right tags of {count_test_tags}, precision is {tag_precision}')"
   ]
  },
  {
   "cell_type": "code",
   "execution_count": 22,
   "metadata": {},
   "outputs": [
    {
     "data": {
      "text/plain": [
       "0.37379595849191893"
      ]
     },
     "execution_count": 22,
     "metadata": {},
     "output_type": "execute_result"
    }
   ],
   "source": [
    "#bleu_score for specialy generated best possible data\n",
    "candidates = []\n",
    "with open('data/pseudo_generated.msg', 'r') as inf:\n",
    "    for msg in inf:\n",
    "        cur_candidate = analyzer(msg)\n",
    "        candidates.append(cur_candidate)\n",
    "        \n",
    "references = []\n",
    "with open('data/test.msg', 'r') as inf:\n",
    "    for msg in inf:\n",
    "        cur_reference = analyzer(msg)\n",
    "        references.append([cur_reference])\n",
    "        \n",
    "corpus_bleu_score = corpus_bleu(references, candidates)\n",
    "corpus_bleu_score"
   ]
  },
  {
   "cell_type": "code",
   "execution_count": 48,
   "metadata": {},
   "outputs": [
    {
     "name": "stdout",
     "output_type": "stream",
     "text": [
      "[['[skeletons]', 'fix', 'sanitizing', 'results', 'of', 'repr', '(', ')', 'on', 'attribute', 'values']] ['{py}', 'we', 'should', 'show', 'python', 'banner', 'even', 'if', 'starting', 'script', 'in', 'python', 'console', 'is', 'empty']\n"
     ]
    }
   ],
   "source": [
    "candidates = []\n",
    "dataset = 'data'\n",
    "with open('{dataset:}/generated.msg'.format(dataset=dataset), 'r') as inf:\n",
    "    for msg in inf:\n",
    "        cur_candidate = analyzer(msg)\n",
    "        candidates.append(cur_candidate)\n",
    "        \n",
    "references = []\n",
    "with open('{dataset:}/test.msg'.format(dataset=dataset), 'r') as inf:\n",
    "    for msg in inf:\n",
    "        cur_reference = analyzer(msg)\n",
    "        references.append([cur_reference])\n",
    "\n",
    "with open('{dataset:}/stats.txt'.format(dataset=dataset), 'w') as ouf: \n",
    "    ouf.write('BLEU score: {}\\n\\n'.format(corpus_bleu_score))\n",
    "    n = len(candidates)\n",
    "    bleu_sum = 0\n",
    "    print(references[0], candidates[0])\n",
    "    cnt = 0\n",
    "    for i in range(n):\n",
    "        bleu_score = sentence_bleu(references[i], candidates[i])\n",
    "        if (bleu_score > 0.005):\n",
    "            cnt += 1\n",
    "            ouf.write(' '.join(references[i][0]) + '\\n')\n",
    "            ouf.write(' '.join(candidates[i]) + '\\n')\n",
    "            ouf.write('\\n')\n",
    "    ouf.write('{} good of {} total ({:.0f}%)\\n'.format(cnt, n, cnt * 100 / n))"
   ]
  },
  {
   "cell_type": "code",
   "execution_count": null,
   "metadata": {},
   "outputs": [],
   "source": []
  }
 ],
 "metadata": {
  "kernelspec": {
   "display_name": "Python 3",
   "language": "python",
   "name": "python3"
  },
  "language_info": {
   "codemirror_mode": {
    "name": "ipython",
    "version": 3
   },
   "file_extension": ".py",
   "mimetype": "text/x-python",
   "name": "python",
   "nbconvert_exporter": "python",
   "pygments_lexer": "ipython3",
   "version": "3.7.1"
  }
 },
 "nbformat": 4,
 "nbformat_minor": 2
}
