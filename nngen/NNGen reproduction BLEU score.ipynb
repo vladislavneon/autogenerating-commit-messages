{
 "cells": [
  {
   "cell_type": "code",
   "execution_count": 55,
   "metadata": {},
   "outputs": [],
   "source": [
    "%config IPCompleter.greedy=True\n",
    "from sklearn.feature_extraction.text import CountVectorizer\n",
    "from nltk.translate.bleu_score import corpus_bleu\n",
    "from nltk.translate.bleu_score import sentence_bleu\n",
    "import json"
   ]
  },
  {
   "cell_type": "code",
   "execution_count": 56,
   "metadata": {},
   "outputs": [],
   "source": [
    "#load vocabulary\n",
    "with open('data/vocabulary.json', 'r') as inf:\n",
    "    vocabulary = json.load(inf) \n",
    "vectorizer = CountVectorizer(vocabulary=vocabulary, token_pattern=r'\\S+', stop_words=['<nl>'])\n",
    "\n",
    "analyzer = vectorizer.build_analyzer()"
   ]
  },
  {
   "cell_type": "code",
   "execution_count": 61,
   "metadata": {},
   "outputs": [
    {
     "data": {
      "text/plain": [
       "0.0019903592624572622"
      ]
     },
     "execution_count": 61,
     "metadata": {},
     "output_type": "execute_result"
    }
   ],
   "source": [
    "candidates = []\n",
    "with open('data/generated.msg', 'r') as inf:\n",
    "    for msg in inf:\n",
    "        cur_candidate = analyzer(msg)\n",
    "        candidates.append(cur_candidate)\n",
    "        \n",
    "references = []\n",
    "with open('data/test.msg', 'r') as inf:\n",
    "    for msg in inf:\n",
    "        cur_reference = analyzer(msg)\n",
    "        references.append([cur_reference])\n",
    "        \n",
    "corpus_bleu_score = corpus_bleu(references, candidates)\n",
    "corpus_bleu_score"
   ]
  },
  {
   "cell_type": "code",
   "execution_count": 66,
   "metadata": {},
   "outputs": [
    {
     "name": "stdout",
     "output_type": "stream",
     "text": [
      "[['[', 'gui', '-', 'test', ']', 'extendedjtreepathfixture', ':', 'printmodel', 'should', 'output', 'shown', 'values']] ['add', 'platform', 'info', 'to', 'libclang', 'diagnostic', 'function']\n"
     ]
    },
    {
     "name": "stderr",
     "output_type": "stream",
     "text": [
      "/Users/ne0n/miniconda3/lib/python3.7/site-packages/nltk/translate/bleu_score.py:503: UserWarning: \n",
      "The hypothesis contains 0 counts of 2-gram overlaps.\n",
      "Therefore the BLEU score evaluates to 0, independently of\n",
      "how many N-gram overlaps of lower order it contains.\n",
      "Consider using lower n-gram order or use SmoothingFunction()\n",
      "  warnings.warn(_msg)\n",
      "/Users/ne0n/miniconda3/lib/python3.7/site-packages/nltk/translate/bleu_score.py:503: UserWarning: \n",
      "The hypothesis contains 0 counts of 3-gram overlaps.\n",
      "Therefore the BLEU score evaluates to 0, independently of\n",
      "how many N-gram overlaps of lower order it contains.\n",
      "Consider using lower n-gram order or use SmoothingFunction()\n",
      "  warnings.warn(_msg)\n",
      "/Users/ne0n/miniconda3/lib/python3.7/site-packages/nltk/translate/bleu_score.py:503: UserWarning: \n",
      "The hypothesis contains 0 counts of 4-gram overlaps.\n",
      "Therefore the BLEU score evaluates to 0, independently of\n",
      "how many N-gram overlaps of lower order it contains.\n",
      "Consider using lower n-gram order or use SmoothingFunction()\n",
      "  warnings.warn(_msg)\n"
     ]
    }
   ],
   "source": [
    "candidates = []\n",
    "dataset = 'intellij_test_limit200+nngen_train'\n",
    "with open('{dataset:}/generated.msg'.format(dataset=dataset), 'r') as inf:\n",
    "    for msg in inf:\n",
    "        cur_candidate = analyzer(msg)\n",
    "        candidates.append(cur_candidate)\n",
    "        \n",
    "references = []\n",
    "with open('{dataset:}/test.msg'.format(dataset=dataset), 'r') as inf:\n",
    "    for msg in inf:\n",
    "        cur_reference = analyzer(msg)\n",
    "        references.append([cur_reference])\n",
    "\n",
    "with open('{dataset:}/stats.txt'.format(dataset=dataset), 'w') as ouf: \n",
    "    ouf.write('BLEU score: {}\\n\\n'.format(corpus_bleu_score))\n",
    "    n = len(candidates)\n",
    "    bleu_sum = 0\n",
    "    print(references[0], candidates[0])\n",
    "    cnt = 0\n",
    "    for i in range(n):\n",
    "        bleu_score = sentence_bleu(references[i], candidates[i])\n",
    "        if (bleu_score > 0.1):\n",
    "            cnt += 1\n",
    "            ouf.write(' '.join(references[i][0]) + '\\n')\n",
    "            ouf.write(' '.join(candidates[i]) + '\\n')\n",
    "            ouf.write('\\n')\n",
    "    ouf.write('{} good of {} total ({:.0f}%)\\n'.format(cnt, n, cnt * 100 / n))"
   ]
  },
  {
   "cell_type": "code",
   "execution_count": null,
   "metadata": {},
   "outputs": [],
   "source": []
  }
 ],
 "metadata": {
  "kernelspec": {
   "display_name": "Python 3",
   "language": "python",
   "name": "python3"
  },
  "language_info": {
   "codemirror_mode": {
    "name": "ipython",
    "version": 3
   },
   "file_extension": ".py",
   "mimetype": "text/x-python",
   "name": "python",
   "nbconvert_exporter": "python",
   "pygments_lexer": "ipython3",
   "version": "3.7.0"
  }
 },
 "nbformat": 4,
 "nbformat_minor": 2
}
