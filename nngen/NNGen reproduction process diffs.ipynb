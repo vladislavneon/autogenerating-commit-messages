{
 "cells": [
  {
   "cell_type": "code",
   "execution_count": 114,
   "metadata": {},
   "outputs": [],
   "source": [
    "%config IPCompleter.greedy=True\n",
    "from sklearn.feature_extraction.text import CountVectorizer\n",
    "from sklearn.metrics.pairwise import cosine_distances\n",
    "from nltk.translate.bleu_score import sentence_bleu\n",
    "import scipy.sparse\n",
    "import json"
   ]
  },
  {
   "cell_type": "code",
   "execution_count": 115,
   "metadata": {},
   "outputs": [],
   "source": [
    "k_best = 5\n",
    "\n",
    "def get_line_from_file_by_id(filename, id):\n",
    "    with open(filename) as inf:\n",
    "        for i, line in enumerate(inf):\n",
    "            if i == id:\n",
    "                return line\n",
    "            \n",
    "def get_line_from_filelist_by_id(filelist, id):\n",
    "    return filelist[id]\n",
    "\n",
    "with open('data/train.diff', 'r') as inf:\n",
    "    train_diff_list = []\n",
    "    for line in inf:\n",
    "        train_diff_list.append(line)\n",
    "\n",
    "with open('data/train.msg', 'r') as inf:\n",
    "    train_msg_list = []\n",
    "    for line in inf:\n",
    "        train_msg_list.append(line)\n",
    "            \n",
    "#def extract_train_diff(id):\n",
    "#    return get_line_from_file_by_id('data/train.diff', id)\n",
    "\n",
    "def extract_train_diff(id):\n",
    "    return get_line_from_filelist_by_id(train_diff_list, id)\n",
    "            \n",
    "#def extract_target_commit_message(id):\n",
    "#    return get_line_from_file_by_id('data/train.msg', id)\n",
    "\n",
    "def extract_target_commit_message(id):\n",
    "    return get_line_from_filelist_by_id(train_msg_list, id)"
   ]
  },
  {
   "cell_type": "code",
   "execution_count": 116,
   "metadata": {},
   "outputs": [],
   "source": [
    "new_diffs = []\n",
    "with open('data/test.diff', 'r') as inf:\n",
    "    for line in inf:\n",
    "        new_diffs.append(line.strip())\n",
    "#new_diffs"
   ]
  },
  {
   "cell_type": "code",
   "execution_count": 117,
   "metadata": {},
   "outputs": [
    {
     "name": "stdout",
     "output_type": "stream",
     "text": [
      "CPU times: user 39.4 ms, sys: 15.6 ms, total: 55 ms\n",
      "Wall time: 55 ms\n"
     ]
    }
   ],
   "source": [
    "%%time\n",
    "#load vocabulary\n",
    "with open('data/vocabulary.json', 'r') as inf:\n",
    "    vocabulary = json.load(inf) \n",
    "vectorizer = CountVectorizer(vocabulary=vocabulary, token_pattern=r'\\S+', stop_words=['<nl>'])\n",
    "\n",
    "analyzer = vectorizer.build_analyzer()\n",
    "\n",
    "#load bag-of-words matrix\n",
    "train_bow_matrix = scipy.sparse.load_npz('data/bow_matrix.npz')\n",
    "#train_bow_matrix.toarray()"
   ]
  },
  {
   "cell_type": "code",
   "execution_count": 118,
   "metadata": {},
   "outputs": [
    {
     "name": "stdout",
     "output_type": "stream",
     "text": [
      "CPU times: user 185 ms, sys: 3.82 ms, total: 189 ms\n",
      "Wall time: 189 ms\n"
     ]
    }
   ],
   "source": [
    "%%time\n",
    "newdiff_bow_matrix = vectorizer.transform(new_diffs)\n",
    "#newdiff_bow_matrix.shape"
   ]
  },
  {
   "cell_type": "code",
   "execution_count": 119,
   "metadata": {},
   "outputs": [
    {
     "name": "stdout",
     "output_type": "stream",
     "text": [
      "CPU times: user 2.73 s, sys: 504 ms, total: 3.24 s\n",
      "Wall time: 3.1 s\n"
     ]
    }
   ],
   "source": [
    "%%time\n",
    "cosine_matrix = cosine_distances(newdiff_bow_matrix, train_bow_matrix)\n",
    "#cosine_matrix.shape"
   ]
  },
  {
   "cell_type": "code",
   "execution_count": 120,
   "metadata": {},
   "outputs": [
    {
     "name": "stdout",
     "output_type": "stream",
     "text": [
      "CPU times: user 3.73 s, sys: 31.1 ms, total: 3.76 s\n",
      "Wall time: 3.79 s\n"
     ]
    }
   ],
   "source": [
    "%%time\n",
    "candidates_indices = [(row.argsort()[:k_best]).tolist() for row in cosine_matrix]\n",
    "#len(candidates_indices[0]), len(candidates_indices)"
   ]
  },
  {
   "cell_type": "code",
   "execution_count": 121,
   "metadata": {},
   "outputs": [
    {
     "data": {
      "text/plain": [
       "(1796, 26208)"
      ]
     },
     "execution_count": 121,
     "metadata": {},
     "output_type": "execute_result"
    }
   ],
   "source": [
    "cosine_matrix.shape"
   ]
  },
  {
   "cell_type": "code",
   "execution_count": 122,
   "metadata": {},
   "outputs": [],
   "source": [
    "def choose_best(diff, ids):\n",
    "    best_bleu = 0.0\n",
    "    best_id = ids[0]\n",
    "    for id in ids:\n",
    "        reference = extract_train_diff(id)\n",
    "        score = sentence_bleu([analyzer(reference)], analyzer(diff))\n",
    "        if score > best_bleu:\n",
    "            best_bleu = score\n",
    "            best_id = id\n",
    "    return best_id"
   ]
  },
  {
   "cell_type": "code",
   "execution_count": 123,
   "metadata": {},
   "outputs": [
    {
     "name": "stdout",
     "output_type": "stream",
     "text": [
      "0\n",
      "100\n",
      "200\n",
      "300\n",
      "400\n",
      "500\n",
      "600\n",
      "700\n",
      "800\n",
      "900\n",
      "1000\n",
      "1100\n",
      "1200\n",
      "1300\n",
      "1400\n",
      "1500\n",
      "1600\n",
      "1700\n",
      "CPU times: user 8.26 s, sys: 41.1 ms, total: 8.3 s\n",
      "Wall time: 8.32 s\n"
     ]
    }
   ],
   "source": [
    "%%time\n",
    "messages_id = []\n",
    "for i, diff in enumerate(new_diffs):\n",
    "    cur_id = choose_best(diff, candidates_indices[i])\n",
    "    messages_id.append(cur_id)\n",
    "    if i % 100 == 0:\n",
    "        print(i)\n",
    "    \n",
    "#print(new_diffs, extract_train_diff(0), extract_train_diff(1), extract_train_diff(2), extract_train_diff(3))\n",
    "    \n",
    "#len(messages_id)"
   ]
  },
  {
   "cell_type": "code",
   "execution_count": 124,
   "metadata": {},
   "outputs": [],
   "source": [
    "with open('data/generated.msg', 'w') as ouf:\n",
    "    for i, message_id in enumerate(messages_id):\n",
    "        message = extract_target_commit_message(message_id)\n",
    "        ouf.write(message)\n",
    "        #if i % 100 == 0:\n",
    "        #    print(i)"
   ]
  },
  {
   "cell_type": "code",
   "execution_count": null,
   "metadata": {},
   "outputs": [],
   "source": []
  }
 ],
 "metadata": {
  "kernelspec": {
   "display_name": "Python 3",
   "language": "python",
   "name": "python3"
  },
  "language_info": {
   "codemirror_mode": {
    "name": "ipython",
    "version": 3
   },
   "file_extension": ".py",
   "mimetype": "text/x-python",
   "name": "python",
   "nbconvert_exporter": "python",
   "pygments_lexer": "ipython3",
   "version": "3.7.0"
  }
 },
 "nbformat": 4,
 "nbformat_minor": 2
}
