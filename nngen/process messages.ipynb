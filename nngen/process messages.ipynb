{
 "cells": [
  {
   "cell_type": "code",
   "execution_count": 82,
   "metadata": {},
   "outputs": [],
   "source": [
    "%config IPCompleter.greedy=True\n",
    "import re\n",
    "from sklearn.feature_extraction.text import TfidfVectorizer\n",
    "from sklearn.feature_extraction.text import CountVectorizer"
   ]
  },
  {
   "cell_type": "code",
   "execution_count": 83,
   "metadata": {},
   "outputs": [],
   "source": [
    "def parse_tag(msg):\n",
    "    m = re.match(r'(\\[.+?\\])(.*)', msg)\n",
    "    if m:\n",
    "        return m.group(1).lower(), m.group(2)\n",
    "    # m = re.match(r'([A-Z]+?)-\\d+?\\D(.*)', msg)\n",
    "    # if m:\n",
    "    #     return m.group(1).lower(), m.group(2)\n",
    "    m = re.match(r'([A-Za-z]+?):(.*)', msg)\n",
    "    if m and len(m.group(1)) < 10:\n",
    "        return '[{}]'.format(m.group(1).lower()), m.group(2)\n",
    "    return '', msg\n",
    "\n",
    "def handle_tags(line):\n",
    "    tag, rest = parse_tag(line)\n",
    "    issue_tags = re.findall(r'[^\\n ]??([A-Z]+)-(?:CR-)?\\d+[^ ]?', rest)\n",
    "    issue_tags = set(map(str.lower, issue_tags))\n",
    "    issue_tags = ' '.join(map((lambda s: '{{{}}}'.format(s)), issue_tags))\n",
    "    rest = re.sub(r'[^\\n ]??([A-Z]+)-(?:CR-)?\\d+[^ ]?', r'', rest)\n",
    "    return tag, issue_tags, rest\n",
    "\n",
    "def remove_numbers(line):\n",
    "    return re.sub(r'( |^)(\\d+)( |$)', r'\\1\\3', line)"
   ]
  },
  {
   "cell_type": "code",
   "execution_count": 84,
   "metadata": {},
   "outputs": [],
   "source": [
    "def join_msg(tag, issue_tags, rest):\n",
    "    res = []\n",
    "    if tag:\n",
    "        res.append(tag)\n",
    "    if issue_tags:\n",
    "        res.append(issue_tags)\n",
    "    res.append(tokenize(rest))\n",
    "    return ' '.join(res)\n",
    "\n",
    "def tokenize(line):\n",
    "    line = re.sub(r'(\\w)(?=[^a-zA-Z0-9_ ])', r'\\1 ', line)\n",
    "    line = re.sub(r'([^a-zA-Z0-9_ ])(?=\\w)', r'\\1 ', line)\n",
    "    line = re.sub(r'([^a-zA-Z0-9_ ])(?=[^a-zA-Z0-9_ ])', r'\\1 ', line)\n",
    "    line = remove_numbers(line)\n",
    "    line = ' '.join(line.split())\n",
    "    return line"
   ]
  },
  {
   "cell_type": "code",
   "execution_count": 85,
   "metadata": {},
   "outputs": [],
   "source": [
    "tfidf_threshold = 0.05\n",
    "\n",
    "def insert_placeholders(line, diff_tfidf):\n",
    "    tokens = line.split()\n",
    "#     print(tokens)\n",
    "#     print(diff_tfidf)\n",
    "#     print()\n",
    "    for i in range(len(tokens)):\n",
    "        if tokens[i] in diff_tfidf:\n",
    "            tokens[i] = 'ENTITY'\n",
    "    return ' '.join(tokens)"
   ]
  },
  {
   "cell_type": "code",
   "execution_count": 86,
   "metadata": {},
   "outputs": [],
   "source": [
    "def process_messages(msgs, tfidf=None, offset=0, placeholder=True):\n",
    "    for i in range(len(msgs)):\n",
    "        msg = msgs[i]\n",
    "        tag, issue_tags, rest = handle_tags(msg)\n",
    "        rest = tokenize(rest)\n",
    "        if placeholder:\n",
    "            rest = insert_placeholders(rest.lower(), tfidf[i + offset])\n",
    "        msgs[i] = join_msg(tag, issue_tags, rest)"
   ]
  },
  {
   "cell_type": "code",
   "execution_count": 87,
   "metadata": {},
   "outputs": [],
   "source": [
    "#load diffs\n",
    "\n",
    "diffs = []\n",
    "with open('generated_data/test.diff', 'r', encoding='utf8') as inf:\n",
    "    for line in inf:\n",
    "        diffs.append(line.strip())\n",
    "\n",
    "testset_len = len(diffs)\n",
    "\n",
    "with open('generated_data/train.diff', 'r', encoding='utf8') as inf:\n",
    "    for line in inf:\n",
    "        diffs.append(line.strip())"
   ]
  },
  {
   "cell_type": "code",
   "execution_count": 88,
   "metadata": {},
   "outputs": [
    {
     "name": "stdout",
     "output_type": "stream",
     "text": [
      "CPU times: user 7.82 s, sys: 277 ms, total: 8.1 s\n",
      "Wall time: 8.3 s\n"
     ]
    }
   ],
   "source": [
    "%%time\n",
    "#build tfidf for diffs\n",
    "\n",
    "\n",
    "tfidf_vectorizer = TfidfVectorizer(token_pattern=r'\\S+', stop_words=['<nl>'], max_df=100)\n",
    "tfidf_matrix = tfidf_vectorizer.fit_transform(diffs)\n",
    "index = tfidf_vectorizer.get_feature_names()\n",
    "tfidf = []\n",
    "for row in tfidf_matrix:\n",
    "    cur_tfidf = {index[word_id] : score for word_id, score in zip(row.indices, row.data)}\n",
    "    tfidf.append(cur_tfidf)"
   ]
  },
  {
   "cell_type": "code",
   "execution_count": 89,
   "metadata": {},
   "outputs": [],
   "source": [
    "with open('generated_data/test.msg', 'r') as inf:\n",
    "    msgs = list(inf)\n",
    "\n",
    "process_messages(msgs, tfidf=tfidf, placeholder=True)\n",
    "    \n",
    "with open('generated_data/test.msg', 'w') as ouf:\n",
    "    for msg in msgs:\n",
    "        ouf.write(msg + '\\n')\n",
    "    \n",
    "with open('generated_data/train.msg', 'r') as inf:\n",
    "    msgs = list(inf)\n",
    "\n",
    "process_messages(msgs, tfidf=tfidf, offset=testset_len, placeholder=True)\n",
    "    \n",
    "with open('generated_data/train.msg', 'w') as ouf:\n",
    "    for msg in msgs:\n",
    "        ouf.write(msg + '\\n')"
   ]
  },
  {
   "cell_type": "code",
   "execution_count": 93,
   "metadata": {},
   "outputs": [],
   "source": [
    "def extract_tag(msg):\n",
    "    match = re.match(r'\\[(.*?)\\]', msg)\n",
    "    if match is not None:\n",
    "        return match.group(1).strip()\n",
    "    match = re.match(r'\\{(.*?)\\}', msg)\n",
    "    if match is not None:\n",
    "        return match.group(1).strip()\n",
    "    return 'no-tag'\n",
    "\n",
    "def extract_pure_tag(msg):\n",
    "    match = re.match(r'\\[(.*?)\\]', msg)\n",
    "    if match is not None:\n",
    "        return match.group(1).strip()\n",
    "    match = re.match(r'\\{(.*?)\\}', msg)\n",
    "    if match is not None:\n",
    "        return ''\n",
    "    return 'no-tag'"
   ]
  },
  {
   "cell_type": "code",
   "execution_count": 91,
   "metadata": {},
   "outputs": [],
   "source": [
    "with open('generated_data/test.msg', 'r') as inf:\n",
    "    msgs = map(extract_tag, list(inf))\n",
    "    \n",
    "with open('generated_data/test_tags.msg', 'w') as ouf:\n",
    "    for msg in msgs:\n",
    "        ouf.write(msg + '\\n')\n",
    "    \n",
    "with open('generated_data/train.msg', 'r') as inf:\n",
    "    msgs = map(extract_tag, list(inf))\n",
    "    \n",
    "with open('generated_data/train_tags.msg', 'w') as ouf:\n",
    "    for msg in msgs:\n",
    "        ouf.write(msg + '\\n')"
   ]
  },
  {
   "cell_type": "code",
   "execution_count": 96,
   "metadata": {},
   "outputs": [],
   "source": [
    "with open('generated_data/test.msg', 'r') as inf:\n",
    "    msgs = map(extract_pure_tag, list(inf))\n",
    "    \n",
    "with open('generated_data/test_pure_tags.msg', 'w') as ouf:\n",
    "    for msg in msgs:\n",
    "            ouf.write(msg + '\\n')\n",
    "    \n",
    "with open('generated_data/train.msg', 'r') as inf:\n",
    "    msgs = map(extract_pure_tag, list(inf))\n",
    "    \n",
    "with open('generated_data/train_pure_tags.msg', 'w') as ouf:\n",
    "    for msg in msgs:\n",
    "            ouf.write(msg + '\\n')"
   ]
  },
  {
   "cell_type": "code",
   "execution_count": null,
   "metadata": {},
   "outputs": [],
   "source": []
  }
 ],
 "metadata": {
  "kernelspec": {
   "display_name": "Python 3",
   "language": "python",
   "name": "python3"
  },
  "language_info": {
   "codemirror_mode": {
    "name": "ipython",
    "version": 3
   },
   "file_extension": ".py",
   "mimetype": "text/x-python",
   "name": "python",
   "nbconvert_exporter": "python",
   "pygments_lexer": "ipython3",
   "version": "3.7.1"
  }
 },
 "nbformat": 4,
 "nbformat_minor": 2
}
