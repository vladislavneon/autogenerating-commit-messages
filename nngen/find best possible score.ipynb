{
 "cells": [
  {
   "cell_type": "code",
   "execution_count": 7,
   "metadata": {},
   "outputs": [],
   "source": [
    "%config IPCompleter.greedy=True\n",
    "from sklearn.feature_extraction.text import CountVectorizer\n",
    "from nltk.translate.bleu_score import corpus_bleu\n",
    "from nltk.translate.bleu_score import sentence_bleu\n",
    "import json"
   ]
  },
  {
   "cell_type": "code",
   "execution_count": 36,
   "metadata": {},
   "outputs": [],
   "source": [
    "#load vocabulary\n",
    "with open('data/vocabulary.json', 'r') as inf:\n",
    "    vocabulary = json.load(inf) \n",
    "vectorizer = CountVectorizer(vocabulary=vocabulary, token_pattern=r'\\S+', stop_words=['<nl>'])\n",
    "\n",
    "analyzer = vectorizer.build_analyzer()"
   ]
  },
  {
   "cell_type": "code",
   "execution_count": 37,
   "metadata": {},
   "outputs": [],
   "source": [
    "train_msgs = []\n",
    "with open('data/train.msg', 'r') as inf:\n",
    "    for msg in inf:\n",
    "        msg = analyzer(msg)\n",
    "        train_msgs.append(msg)\n",
    "        \n",
    "test_msgs = []\n",
    "with open('data/test.msg', 'r') as inf:\n",
    "    for msg in inf:\n",
    "        msg = analyzer(msg)\n",
    "        test_msgs.append(msg)"
   ]
  },
  {
   "cell_type": "code",
   "execution_count": 38,
   "metadata": {},
   "outputs": [
    {
     "name": "stdout",
     "output_type": "stream",
     "text": [
      "entity entity entity entity entity in entity entity 4.4646672960328985e-78\n",
      "update entity plugin 9.047424648113057e-155\n",
      "entity : renamed to . entity 5.775353993361614e-78\n",
      "convert entity to kotlin 6.86809206056511e-78\n",
      "java related file should be in java module 5.233427736988301e-155\n",
      "entity : renamed to . entity 5.775353993361614e-78\n",
      "move entity to java - impl 0.3655552228545123\n",
      "[platform] base entity number set to 1.0\n",
      "add entity . entity . entity 7.711523862191631e-155\n",
      "entity : renamed to . entity 5.775353993361614e-78\n",
      "convert entity to kotlin 6.86809206056511e-78\n",
      "update edutools for . release 1.2183324802375697e-231\n",
      "support new coverage entity entity - entity agents ( remove unused entity entity entity entity ) 2.852668381554072e-78\n",
      "entity : renamed to . entity 5.775353993361614e-78\n",
      "entity . entity moved to java - entity module 3.1476699889714443e-78\n",
      "entity : renamed to . entity 5.775353993361614e-78\n",
      "{idea} update entity to fix smap issues 7.711523862191631e-155\n",
      "convert entity to kotlin 6.86809206056511e-78\n",
      "entity : renamed to . entity 5.775353993361614e-78\n",
      "[gradle] remove slf4j from entity - entity entity 1.4256605770826504e-231\n",
      "convert entity to kotlin 6.86809206056511e-78\n",
      "rename to kotlin 1.384292958842266e-231\n",
      "convert entity to kotlin 6.86809206056511e-78\n",
      "add entity . entity . entity 0.31702331385234306\n",
      "support new coverage entity entity - entity agents ( remove unused entity entity entity entity ) 8.177544795630405e-79\n",
      "convert entity to kotlin 6.86809206056511e-78\n",
      "convert entity to kotlin 6.86809206056511e-78\n",
      "{dsgn} new entity entity 0\n",
      "updated entity entity with java9 - capable eclipse compiler 3.4077295621678842e-78\n",
      "convert entity to kotlin 6.86809206056511e-78\n",
      "update to the latest edutools plugin 1.331960397810445e-231\n",
      "entity : renamed to . entity 5.775353993361614e-78\n",
      "idea product layout : rename entity . entity to entity . entity 0.3347189874003768\n",
      "idea product layout : rename entity . entity to entity . entity 0.3347189874003768\n",
      "entity : renamed to . entity 5.775353993361614e-78\n",
      "entity : renamed to . entity 5.775353993361614e-78\n",
      "entity : renamed to . entity 5.775353993361614e-78\n",
      "convert entity to kotlin 1.0\n",
      "entity . entity moved to java - entity module 3.661843723291765e-78\n",
      "entity . entity moved to java - entity module 3.661843723291765e-78\n",
      "update edutools plugin version 5.635809992474887e-232\n",
      "entity : renamed to . entity 5.775353993361614e-78\n",
      "cleanup ( correct permissions for fsnotifier * binaries ) 6.111565467761957e-235\n",
      "move to entity - entity to use it in the entity 0.2321746040303191\n",
      "image test fixed . 1.4256605770826504e-231\n",
      "cleanup ( correct permissions for fsnotifier * binaries ) 5.474320712955125e-232\n",
      "entity : renamed to . entity 5.775353993361614e-78\n",
      "entity : renamed to . entity 5.775353993361614e-78\n",
      "convert entity to kotlin 6.86809206056511e-78\n",
      "entity : renamed to . entity 5.775353993361614e-78\n",
      "update entity - entity plugin . 0.21401603033752975\n",
      "convert entity to kotlin 1.0\n",
      "[svn] convert \" entity \" to kotlin - rename file 1.0\n",
      "[svn] convert \" entity \" to kotlin - rename file 1.0\n",
      "update entity to . . entity convert to maven entity 3.690122608639576e-78\n",
      "{dsgn} new entity entity 1.2882297539194154e-231\n",
      "[minor] rename entity - > entity 5.780789590099596e-155\n",
      "entity : renamed to . entity 5.775353993361614e-78\n",
      "{idea} update entity to fix smap issues 5.395774370246974e-78\n",
      "convert entity to kotlin 6.86809206056511e-78\n",
      "update edutools plugin version 9.53091075863908e-155\n",
      "convert entity to kotlin 6.86809206056511e-78\n",
      "[platform] base entity number set to 1.0\n",
      "[svn] convert \" entity \" to kotlin - rename file 0.8801117367933934\n",
      "[svn] convert \" entity \" to kotlin - rename file 0.8801117367933934\n",
      "commons - imaging : update entity - entity . entity 0.4026190971287384\n",
      "[svn] convert \" entity \" to kotlin - rename file 0.8801117367933934\n",
      "[svn] convert \" entity \" to kotlin - rename file 0.8801117367933934\n",
      "idea product layout : rename entity . entity to entity . entity 2.0141014035548934e-78\n",
      "convert entity to kotlin 6.86809206056511e-78\n",
      "convert entity to kotlin 6.86809206056511e-78\n",
      "convert entity to kotlin 6.86809206056511e-78\n",
      "convert entity to kotlin 6.86809206056511e-78\n",
      "entity : renamed to . entity 5.623118184955381e-78\n",
      "[svn] convert \" entity \" to kotlin - rename file 1.0\n",
      "update edutools plugin version 5.635809992474887e-232\n",
      "update entity to . . entity convert to maven entity 6.061838450024688e-155\n",
      "convert entity to kotlin 1.0\n",
      "convert entity to kotlin 1.0\n",
      "convert entity to kotlin 1.0\n",
      "add entity entity entity icon 5.021333847570327e-78\n",
      "update edutools plugin version 1.0\n",
      "{idea} update entity to fix smap issues 7.100514228897259e-155\n"
     ]
    }
   ],
   "source": [
    "with open('data/pseudo_generated.msg', 'w') as ouf:\n",
    "    for test_msg in test_msgs:\n",
    "        scores = {' '.join(train_msg) : sentence_bleu([train_msg], test_msg) for train_msg in train_msgs}\n",
    "        pseudo_generated_msg = max(scores, key=scores.get)\n",
    "        print(pseudo_generated_msg, scores[pseudo_generated_msg])\n",
    "        ouf.write(pseudo_generated_msg + '\\n')"
   ]
  },
  {
   "cell_type": "code",
   "execution_count": null,
   "metadata": {},
   "outputs": [],
   "source": []
  }
 ],
 "metadata": {
  "kernelspec": {
   "display_name": "Python 3",
   "language": "python",
   "name": "python3"
  },
  "language_info": {
   "codemirror_mode": {
    "name": "ipython",
    "version": 3
   },
   "file_extension": ".py",
   "mimetype": "text/x-python",
   "name": "python",
   "nbconvert_exporter": "python",
   "pygments_lexer": "ipython3",
   "version": "3.7.1"
  }
 },
 "nbformat": 4,
 "nbformat_minor": 2
}
